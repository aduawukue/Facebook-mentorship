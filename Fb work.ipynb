{
 "cells": [
  {
   "cell_type": "code",
   "execution_count": 90,
   "metadata": {
    "collapsed": false
   },
   "outputs": [
    {
     "name": "stdout",
     "output_type": "stream",
     "text": [
      "False\n"
     ]
    }
   ],
   "source": [
    "#// Hi Hello\n",
    "\n",
    "#// abcd -> False \n",
    "#// abcba -> True \n",
    "\n",
    "li = [\"m\",\"a\",\"ll\",\"a\",\"y\",\"a\",\"l\",\"a\",\"m\"]\n",
    "\n",
    "def palindrome(inp):\n",
    "    comp = []\n",
    "    for i in range(len(inp)):\n",
    "        if inp[i] == inp[-(1+i)]:\n",
    "            comp.append(\"True\")                  \n",
    "        else:\n",
    "            comp.append(\"False\")  \n",
    "        i+=1 \n",
    "        \n",
    "    if 'False' in comp:\n",
    "        print(\"False\")\n",
    "    else:\n",
    "        print(\"True\")\n",
    "        \n",
    "    return\n",
    "\n",
    "palindrome(li)"
   ]
  },
  {
   "cell_type": "code",
   "execution_count": null,
   "metadata": {
    "collapsed": true
   },
   "outputs": [],
   "source": []
  },
  {
   "cell_type": "code",
   "execution_count": null,
   "metadata": {
    "collapsed": true
   },
   "outputs": [],
   "source": []
  }
 ],
 "metadata": {
  "kernelspec": {
   "display_name": "Python 2",
   "language": "python",
   "name": "python2"
  },
  "language_info": {
   "codemirror_mode": {
    "name": "ipython",
    "version": 2
   },
   "file_extension": ".py",
   "mimetype": "text/x-python",
   "name": "python",
   "nbconvert_exporter": "python",
   "pygments_lexer": "ipython2",
   "version": "2.7.11"
  }
 },
 "nbformat": 4,
 "nbformat_minor": 0
}
